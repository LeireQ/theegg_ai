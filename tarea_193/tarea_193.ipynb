{
 "cells": [
  {
   "cell_type": "markdown",
   "metadata": {},
   "source": [
    "<h3 style=\"background:#f19f22; color:#ffffff; padding:20px; border-radius:5px;\">✍ Detección de OUTLIERS en una lista</h3><br>\n",
    "1.- Introducimos una lista de n valores donde uno sobresale (el valor 66). Supongamos que es un outlier y no una anomalía.<br>\n",
    "2.- Dibujamos los valores para que visualmente se entienda mejor la distribución de los valores."
   ]
  },
  {
   "cell_type": "code",
   "execution_count": 16,
   "metadata": {},
   "outputs": [
    {
     "data": {
      "image/png": "[encoded data removed]",
      "text/plain": [
       "<Figure size 432x288 with 1 Axes>"
      ]
     },
     "metadata": {
      "needs_background": "light"
     },
     "output_type": "display_data"
    }
   ],
   "source": [
    "import matplotlib.pyplot as plt\n",
    "import numpy as np\n",
    "\n",
    "muestras = np.array([2,3,4,6,7,9,0,1,2,4,6,9,5,6,7,8,2,7,9,3,66,3,7,4,9,0,2,8,4,2,6,5,3,1,2,5,4,8,6])\n",
    "muestras_unicos, counts = np.unique(muestras, return_counts=True)\n",
    "sizes = counts*100\n",
    "colors = ['green']*len(muestras_unicos)\n",
    "colors[-1] = 'red'\n",
    "\n",
    "plt.axhline(1, color='k', linestyle='--')\n",
    "plt.scatter(muestras_unicos, np.ones(len(muestras_unicos)), s=sizes, color=colors)\n",
    "plt.yticks([])\n",
    "plt.show()"
   ]
  },
  {
   "cell_type": "markdown",
   "metadata": {},
   "source": [
    "<h3 style=\"background:#f19f22; color:#ffffff; padding:20px; border-radius:5px;\">✍ Dibujar un BLOXPLOT para detectar valores anómalos</h3><br>"
   ]
  },
  {
   "cell_type": "code",
   "execution_count": 17,
   "metadata": {},
   "outputs": [
    {
     "data": {
      "text/plain": [
       "{'whiskers': [<matplotlib.lines.Line2D at 0x1e7c056e1f0>,\n",
       "  <matplotlib.lines.Line2D at 0x1e7c056ed60>],\n",
       " 'caps': [<matplotlib.lines.Line2D at 0x1e7c057f130>,\n",
       "  <matplotlib.lines.Line2D at 0x1e7c057f1f0>],\n",
       " 'boxes': [<matplotlib.lines.Line2D at 0x1e7c056e4f0>],\n",
       " 'medians': [<matplotlib.lines.Line2D at 0x1e7c05874c0>],\n",
       " 'fliers': [<matplotlib.lines.Line2D at 0x1e7c05872e0>],\n",
       " 'means': []}"
      ]
     },
     "execution_count": 17,
     "metadata": {},
     "output_type": "execute_result"
    },
    {
     "data": {
      "image/png": "[encoded data removed]",
      "text/plain": [
       "<Figure size 432x288 with 1 Axes>"
      ]
     },
     "metadata": {
      "needs_background": "light"
     },
     "output_type": "display_data"
    }
   ],
   "source": [
    "outlier = dict(markerfacecolor='g', marker='D')\n",
    "fig, ax = plt.subplots()\n",
    "ax.set_title('Boxplot de las muestras')\n",
    "ax.boxplot(muestras, flierprops=green_diamond, labels=[\"Goles\"])"
   ]
  }
 ],
 "metadata": {
  "kernelspec": {
   "display_name": "Python 3",
   "language": "python",
   "name": "python3"
  },
  "language_info": {
   "codemirror_mode": {
    "name": "ipython",
    "version": 3
   },
   "file_extension": ".py",
   "mimetype": "text/x-python",
   "name": "python",
   "nbconvert_exporter": "python",
   "pygments_lexer": "ipython3",
   "version": "3.8.5"
  }
 },
 "nbformat": 4,
 "nbformat_minor": 4
}
