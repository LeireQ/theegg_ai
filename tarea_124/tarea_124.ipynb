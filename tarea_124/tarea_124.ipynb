{
 "cells": [
  {
   "cell_type": "markdown",
   "metadata": {},
   "source": [
    "## En este notebook podrás ver cómo se ponen en práctica las estrategias de muestreo y partición mencionadas en la teoría:\n",
    "<div style=\"background-color: rgb(0, 143, 88);margin: 20px; padding: 20px; border-left: 9px solid #ffb200;\">\n",
    "<ul style=\"color: rgb(255, 255, 255);font-weight:bold;font-size:15px;\">\n",
    "    <li style=\"padding:10px;\">Random sampling </li>\n",
    "    <li style=\"padding:10px;\">Systematic sampling</li>\n",
    "    <li style=\"padding:10px;\">Stratified sampling</li>\n",
    "    <li style=\"padding:10px;\">Cross-Validation K-fold</li>\n",
    "    <li style=\"padding:10px;\">Cross-Validation Shuffle Split</li>\n",
    "    <li style=\"padding:10px;\">Cross-Validation Stratified K-fold</li>\n",
    "    <li style=\"padding:10px;\">Cross-Validation Stratified Shuffle Split</li>\n",
    "</ul>\n",
    "</div>"
   ]
  },
  {
   "cell_type": "markdown",
   "metadata": {},
   "source": [
    "# Muestreo de los datos"
   ]
  },
  {
   "cell_type": "markdown",
   "metadata": {},
   "source": [
    "## Random Sampling\n",
    "\n",
    "Para está estrategia de muestreo de datos importaremos la librería **random**. Esto nos incluye una funcion ***`sample`*** que nos extraer una muestra de la longitud indicada por el usuario."
   ]
  },
  {
   "cell_type": "code",
   "execution_count": 1,
   "metadata": {},
   "outputs": [],
   "source": [
    "import random"
   ]
  },
  {
   "cell_type": "code",
   "execution_count": 2,
   "metadata": {},
   "outputs": [
    {
     "name": "stdout",
     "output_type": "stream",
     "text": [
      "[12, 23, 3, 45]\n"
     ]
    }
   ],
   "source": [
    "datos = [1,23,42,34,65,12,8,59,75,45,17,3,4.5,83.9] #Nuestros datos\n",
    "\n",
    "muestra_random = random.sample(datos,4) #Extraer muestra de longitud 4\n",
    "\n",
    "print(muestra_random)"
   ]
  },
  {
   "cell_type": "markdown",
   "metadata": {},
   "source": [
    "La estrategia aplicada al ser random, te recomiendo que ejecutes la casilla más de una vez. Verás como cambia el resultado.\n",
    "\n",
    "Si no queremos que el resultado cambie cada vez que ejecutamos una celda, tenemos la posibilidad de utilizar la función ***`random.seed()`*** (en la siguiente celda aparece como comentario). El generador de números aleatorios necesita un número con el que empezar (un valor semilla), para poder generar un número aleatorio. Por defecto, el generador de números aleatorios utiliza la hora actual del sistema, pero se puede personalizarla y fijarla con dicha función.\n"
   ]
  },
  {
   "cell_type": "markdown",
   "metadata": {},
   "source": [
    "También tenemos la posibilidad de utilizar la función ***`random.choices()`*** para la misma estrategia. La diferencia respecto a ***`random.sample()`*** es que con esta función los elementos pueden volver a ser seleccionados, es decir, con ***`random.choices()`*** nuestra muestra de datos puede llegar a tener elementos repetidos."
   ]
  },
  {
   "cell_type": "code",
   "execution_count": 3,
   "metadata": {},
   "outputs": [
    {
     "name": "stdout",
     "output_type": "stream",
     "text": [
      "[1, 23, 75, 45]\n"
     ]
    }
   ],
   "source": [
    "#random.seed(3)        #fijar semilla de random\n",
    "\n",
    "print(random.choices(datos, k = 4))"
   ]
  },
  {
   "cell_type": "markdown",
   "metadata": {},
   "source": [
    "## Systematic Sampling\n",
    "\n",
    "Para la extración de una muestra con esta estrategia nos crearemos una función que selecciona valores del dataset en un intervalo (k) determinado de antemano."
   ]
  },
  {
   "cell_type": "code",
   "execution_count": 4,
   "metadata": {},
   "outputs": [],
   "source": [
    "#En caso de no tener instalado pandas o numpy descomentar y ejecutar el comando pip\n",
    "#pip install pandas\n",
    "#pip install numpy\n",
    "import pandas as pd\n",
    "import numpy as np"
   ]
  },
  {
   "cell_type": "code",
   "execution_count": 5,
   "metadata": {},
   "outputs": [],
   "source": [
    "#Función que extraerá la muestra\n",
    "def systematic_sampling(df, k):\n",
    "    intervalo = np.arange(0, len(df), step=k) #Guarda los índices según el valor del intervalo k\n",
    "    systematic_sample = df.iloc[intervalo]\n",
    "    return systematic_sample"
   ]
  },
  {
   "cell_type": "markdown",
   "metadata": {},
   "source": [
    "A continuación, creamos un dataset para poder ver lo que devuelve la función construida."
   ]
  },
  {
   "cell_type": "code",
   "execution_count": 6,
   "metadata": {},
   "outputs": [
    {
     "data": {
      "text/html": [
       "<div>\n",
       "<style scoped>\n",
       "    .dataframe tbody tr th:only-of-type {\n",
       "        vertical-align: middle;\n",
       "    }\n",
       "\n",
       "    .dataframe tbody tr th {\n",
       "        vertical-align: top;\n",
       "    }\n",
       "\n",
       "    .dataframe thead th {\n",
       "        text-align: right;\n",
       "    }\n",
       "</style>\n",
       "<table border=\"1\" class=\"dataframe\">\n",
       "  <thead>\n",
       "    <tr style=\"text-align: right;\">\n",
       "      <th></th>\n",
       "      <th>Id</th>\n",
       "      <th>altura</th>\n",
       "    </tr>\n",
       "  </thead>\n",
       "  <tbody>\n",
       "    <tr>\n",
       "      <th>0</th>\n",
       "      <td>1</td>\n",
       "      <td>189</td>\n",
       "    </tr>\n",
       "    <tr>\n",
       "      <th>1</th>\n",
       "      <td>2</td>\n",
       "      <td>171</td>\n",
       "    </tr>\n",
       "    <tr>\n",
       "      <th>2</th>\n",
       "      <td>3</td>\n",
       "      <td>158</td>\n",
       "    </tr>\n",
       "    <tr>\n",
       "      <th>3</th>\n",
       "      <td>4</td>\n",
       "      <td>162</td>\n",
       "    </tr>\n",
       "    <tr>\n",
       "      <th>4</th>\n",
       "      <td>5</td>\n",
       "      <td>162</td>\n",
       "    </tr>\n",
       "  </tbody>\n",
       "</table>\n",
       "</div>"
      ],
      "text/plain": [
       "   Id  altura\n",
       "0   1     189\n",
       "1   2     171\n",
       "2   3     158\n",
       "3   4     162\n",
       "4   5     162"
      ]
     },
     "execution_count": 6,
     "metadata": {},
     "output_type": "execute_result"
    }
   ],
   "source": [
    "data = {'Id': np.arange(1, 16).tolist(),\n",
    "        'altura': [189, 171, 158, 162, 162, 167, 180, 175,\n",
    "                   178, 181, 178, 178, 173, 157, 194]}   #Datos para la creación del dataframe como un diccionario\n",
    "\n",
    "datos_systematic = pd.DataFrame(data) #Creación del dataframe para el ejemplo\n",
    "datos_systematic.head()"
   ]
  },
  {
   "cell_type": "code",
   "execution_count": 7,
   "metadata": {},
   "outputs": [
    {
     "data": {
      "text/html": [
       "<div>\n",
       "<style scoped>\n",
       "    .dataframe tbody tr th:only-of-type {\n",
       "        vertical-align: middle;\n",
       "    }\n",
       "\n",
       "    .dataframe tbody tr th {\n",
       "        vertical-align: top;\n",
       "    }\n",
       "\n",
       "    .dataframe thead th {\n",
       "        text-align: right;\n",
       "    }\n",
       "</style>\n",
       "<table border=\"1\" class=\"dataframe\">\n",
       "  <thead>\n",
       "    <tr style=\"text-align: right;\">\n",
       "      <th></th>\n",
       "      <th>Id</th>\n",
       "      <th>altura</th>\n",
       "    </tr>\n",
       "  </thead>\n",
       "  <tbody>\n",
       "    <tr>\n",
       "      <th>0</th>\n",
       "      <td>1</td>\n",
       "      <td>189</td>\n",
       "    </tr>\n",
       "    <tr>\n",
       "      <th>3</th>\n",
       "      <td>4</td>\n",
       "      <td>162</td>\n",
       "    </tr>\n",
       "    <tr>\n",
       "      <th>6</th>\n",
       "      <td>7</td>\n",
       "      <td>180</td>\n",
       "    </tr>\n",
       "    <tr>\n",
       "      <th>9</th>\n",
       "      <td>10</td>\n",
       "      <td>181</td>\n",
       "    </tr>\n",
       "    <tr>\n",
       "      <th>12</th>\n",
       "      <td>13</td>\n",
       "      <td>173</td>\n",
       "    </tr>\n",
       "  </tbody>\n",
       "</table>\n",
       "</div>"
      ],
      "text/plain": [
       "    Id  altura\n",
       "0    1     189\n",
       "3    4     162\n",
       "6    7     180\n",
       "9   10     181\n",
       "12  13     173"
      ]
     },
     "execution_count": 7,
     "metadata": {},
     "output_type": "execute_result"
    }
   ],
   "source": [
    "systematic_sampling(datos_systematic,3) #llamada a la función systematic"
   ]
  },
  {
   "cell_type": "markdown",
   "metadata": {},
   "source": [
    "Como se aprecia en el resultado, la función creada para la estrategia ***Systematic Sampling*** funciona correctamente. En este caso, el salto del intervalo se ha puesto como ***`k = 3`***, pero podéis cambiar ese número y ejecutar la celda para ver cómo cambia el resultado y entender mejor la estrategia."
   ]
  },
  {
   "cell_type": "markdown",
   "metadata": {},
   "source": [
    "## Stratified Sampling\n",
    "\n",
    "Para la extracción de la muestra mediante esta estrategia nos crearemos un dataset más amplio. En este caso, nos interesa ver cómo se escogen los datos en función de las características."
   ]
  },
  {
   "cell_type": "code",
   "execution_count": 8,
   "metadata": {},
   "outputs": [
    {
     "data": {
      "text/html": [
       "<div>\n",
       "<style scoped>\n",
       "    .dataframe tbody tr th:only-of-type {\n",
       "        vertical-align: middle;\n",
       "    }\n",
       "\n",
       "    .dataframe tbody tr th {\n",
       "        vertical-align: top;\n",
       "    }\n",
       "\n",
       "    .dataframe thead th {\n",
       "        text-align: right;\n",
       "    }\n",
       "</style>\n",
       "<table border=\"1\" class=\"dataframe\">\n",
       "  <thead>\n",
       "    <tr style=\"text-align: right;\">\n",
       "      <th></th>\n",
       "      <th>Nombre</th>\n",
       "      <th>ID</th>\n",
       "      <th>Grado</th>\n",
       "      <th>Categoria</th>\n",
       "    </tr>\n",
       "  </thead>\n",
       "  <tbody>\n",
       "    <tr>\n",
       "      <th>0</th>\n",
       "      <td>Aitor</td>\n",
       "      <td>1</td>\n",
       "      <td>B</td>\n",
       "      <td>1</td>\n",
       "    </tr>\n",
       "    <tr>\n",
       "      <th>1</th>\n",
       "      <td>Maria</td>\n",
       "      <td>2</td>\n",
       "      <td>B</td>\n",
       "      <td>3</td>\n",
       "    </tr>\n",
       "    <tr>\n",
       "      <th>2</th>\n",
       "      <td>Ander</td>\n",
       "      <td>3</td>\n",
       "      <td>C</td>\n",
       "      <td>2</td>\n",
       "    </tr>\n",
       "    <tr>\n",
       "      <th>3</th>\n",
       "      <td>Kepa</td>\n",
       "      <td>4</td>\n",
       "      <td>A</td>\n",
       "      <td>3</td>\n",
       "    </tr>\n",
       "    <tr>\n",
       "      <th>4</th>\n",
       "      <td>Jose</td>\n",
       "      <td>5</td>\n",
       "      <td>A</td>\n",
       "      <td>1</td>\n",
       "    </tr>\n",
       "  </tbody>\n",
       "</table>\n",
       "</div>"
      ],
      "text/plain": [
       "  Nombre  ID Grado  Categoria\n",
       "0  Aitor   1     B          1\n",
       "1  Maria   2     B          3\n",
       "2  Ander   3     C          2\n",
       "3   Kepa   4     A          3\n",
       "4   Jose   5     A          1"
      ]
     },
     "execution_count": 8,
     "metadata": {},
     "output_type": "execute_result"
    }
   ],
   "source": [
    "studiantes = {'Nombre': ['Aitor', 'Maria', 'Ander', 'Kepa', 'Jose','Alex', 'Eva', 'Jon', 'Ane', 'Juan'],\n",
    "              'ID': [1, 2, 3, 4, 5, 6, 7, 8, 9, 10],\n",
    "              'Grado': ['B', 'B', 'C', 'A', 'A', 'A', 'C', 'B', 'A', 'B'],\n",
    "              'Categoria': [1, 3, 2, 3, 1, 3, 3, 2, 1, 2]} #Datos para la creación del dataframe como un diccionario\n",
    "  \n",
    "datos_stratified = pd.DataFrame(studiantes) #Creación del dataframe para el ejemplo\n",
    "datos_stratified.head()"
   ]
  },
  {
   "cell_type": "code",
   "execution_count": 9,
   "metadata": {},
   "outputs": [
    {
     "data": {
      "text/html": [
       "<div>\n",
       "<style scoped>\n",
       "    .dataframe tbody tr th:only-of-type {\n",
       "        vertical-align: middle;\n",
       "    }\n",
       "\n",
       "    .dataframe tbody tr th {\n",
       "        vertical-align: top;\n",
       "    }\n",
       "\n",
       "    .dataframe thead th {\n",
       "        text-align: right;\n",
       "    }\n",
       "</style>\n",
       "<table border=\"1\" class=\"dataframe\">\n",
       "  <thead>\n",
       "    <tr style=\"text-align: right;\">\n",
       "      <th></th>\n",
       "      <th></th>\n",
       "      <th>Nombre</th>\n",
       "      <th>ID</th>\n",
       "      <th>Grado</th>\n",
       "      <th>Categoria</th>\n",
       "    </tr>\n",
       "    <tr>\n",
       "      <th>Grado</th>\n",
       "      <th></th>\n",
       "      <th></th>\n",
       "      <th></th>\n",
       "      <th></th>\n",
       "      <th></th>\n",
       "    </tr>\n",
       "  </thead>\n",
       "  <tbody>\n",
       "    <tr>\n",
       "      <th>A</th>\n",
       "      <th>5</th>\n",
       "      <td>Alex</td>\n",
       "      <td>6</td>\n",
       "      <td>A</td>\n",
       "      <td>3</td>\n",
       "    </tr>\n",
       "    <tr>\n",
       "      <th>B</th>\n",
       "      <th>9</th>\n",
       "      <td>Juan</td>\n",
       "      <td>10</td>\n",
       "      <td>B</td>\n",
       "      <td>2</td>\n",
       "    </tr>\n",
       "    <tr>\n",
       "      <th>C</th>\n",
       "      <th>6</th>\n",
       "      <td>Eva</td>\n",
       "      <td>7</td>\n",
       "      <td>C</td>\n",
       "      <td>3</td>\n",
       "    </tr>\n",
       "  </tbody>\n",
       "</table>\n",
       "</div>"
      ],
      "text/plain": [
       "        Nombre  ID Grado  Categoria\n",
       "Grado                              \n",
       "A     5   Alex   6     A          3\n",
       "B     9   Juan  10     B          2\n",
       "C     6    Eva   7     C          3"
      ]
     },
     "execution_count": 9,
     "metadata": {},
     "output_type": "execute_result"
    }
   ],
   "source": [
    "datos_stratified.groupby('Grado').apply(lambda x: x.sample(1)) #Agrupar por 'Grado' y seleccionar 1 aleatoriamente"
   ]
  },
  {
   "cell_type": "markdown",
   "metadata": {},
   "source": [
    "En esta ocasión, podemos apreciar cómo primero se agrupan según el grado de los estudiantes y una vez agrupados, se selecciona uno al azar de cada grupo. Cada grado es un estrato, en el que de ese estrato se escoge un estudiante al azar, justo como en la estrategia de ***Stratified***. Con eso ya tendríamos nuestra muestra. \n",
    "\n",
    "Aquí también si ejecutamos más de una vez la celda obtendremos distintos resultados, ya que la selección es aleatoria."
   ]
  },
  {
   "cell_type": "markdown",
   "metadata": {},
   "source": [
    "# Particionado de los datos"
   ]
  },
  {
   "cell_type": "markdown",
   "metadata": {},
   "source": [
    "Para esta sección, cabe recordar que para el uso de los modelos de Machine Learning tenemos principalmente 2 clases de la librería **Scikit-Learn** para el particionado de datos. La primera, ***`train_test_split`*** y la segunda, ***`Cross-Validation`***. Veamos cómo funciona cada uno de ellos y las distintas estrategias de muestreo que utilizan."
   ]
  },
  {
   "cell_type": "markdown",
   "metadata": {},
   "source": [
    "## Train Test Split\n",
    "\n",
    "Para esta estrategia utilizaremos la clase ***`train_test_split`*** de la librería **Scikit-Learn**. Haremos un ejemplo simple para entender el funcionamiento interno del algoritmo.\n",
    "\n",
    "Esta es una manera facil y sencilla de particionar los datos para entrenamiento y test. Veamos su ejecución."
   ]
  },
  {
   "cell_type": "code",
   "execution_count": 10,
   "metadata": {},
   "outputs": [],
   "source": [
    "#En caso de no tener instalado sklearn descomentar y ejecutar el comando pip\n",
    "#pip install -U scikit-learn\n",
    "from sklearn.model_selection import train_test_split"
   ]
  },
  {
   "cell_type": "code",
   "execution_count": 11,
   "metadata": {},
   "outputs": [
    {
     "name": "stdout",
     "output_type": "stream",
     "text": [
      "X_train: \n",
      " [[ 4  5]\n",
      " [12 13]\n",
      " [ 6  7]\n",
      " [ 0  1]\n",
      " [18 19]\n",
      " [10 11]\n",
      " [ 8  9]\n",
      " [14 15]]\n",
      "\n",
      "X_test: \n",
      " [[ 2  3]\n",
      " [16 17]]\n",
      "\n",
      "y_train: \n",
      " [0 0 0 0 1 0 0 0]\n",
      "\n",
      "y_test: \n",
      " [0 1]\n"
     ]
    }
   ],
   "source": [
    "X, y = np.arange(20).reshape((10, 2)), np.hstack(([0] * 8, [1] * 2)) #Creación del dato para el ejemplo\n",
    "\n",
    "X_train, X_test, y_train, y_test = train_test_split(X, y, test_size=0.2)\n",
    "\n",
    "print('X_train: \\n',X_train)\n",
    "print('\\nX_test: \\n',X_test)\n",
    "print('\\ny_train: \\n',y_train)\n",
    "print('\\ny_test: \\n',y_test)"
   ]
  },
  {
   "cell_type": "markdown",
   "metadata": {},
   "source": [
    "En este caso, también tenemos la posibilidad de utilizar la estrategia de muestreo **Stratified** mediante el parametro ***`stratify = True`***. Veamos el mismo ejemplo con este parametro."
   ]
  },
  {
   "cell_type": "code",
   "execution_count": 12,
   "metadata": {},
   "outputs": [
    {
     "name": "stdout",
     "output_type": "stream",
     "text": [
      "X_train: \n",
      " [[14 15]\n",
      " [10 11]\n",
      " [ 8  9]\n",
      " [12 13]\n",
      " [ 0  1]\n",
      " [ 6  7]\n",
      " [16 17]\n",
      " [18 19]]\n",
      "\n",
      "X_test: \n",
      " [[2 3]\n",
      " [4 5]]\n",
      "\n",
      "y_train: \n",
      " [0 0 0 0 0 0 1 1]\n",
      "\n",
      "y_test: \n",
      " [0 0]\n"
     ]
    }
   ],
   "source": [
    "X_train, X_test, y_train, y_test = train_test_split(X, y, test_size=0.2,stratify=y)\n",
    "\n",
    "print('X_train: \\n',X_train)\n",
    "print('\\nX_test: \\n',X_test)\n",
    "print('\\ny_train: \\n',y_train)\n",
    "print('\\ny_test: \\n',y_test)"
   ]
  },
  {
   "cell_type": "markdown",
   "metadata": {},
   "source": [
    "## Cross-Validation K-Fold\n",
    "\n",
    "Para esta estrategia utilizaremos la clase ***`KFold`*** de la librería **Scikit-Learn**. Haremos un ejemplo simple para entender el funcionamiento interno del algoritmo.\n",
    "\n",
    "Se hace la partición de los datos, y para ver cómo cambian en cada iteración, se imprime la posicion del dato en el vector para entrenamiento y para test."
   ]
  },
  {
   "cell_type": "code",
   "execution_count": 13,
   "metadata": {},
   "outputs": [],
   "source": [
    "from sklearn.model_selection import KFold"
   ]
  },
  {
   "cell_type": "code",
   "execution_count": 14,
   "metadata": {},
   "outputs": [
    {
     "name": "stdout",
     "output_type": "stream",
     "text": [
      "Entrenamiento: [2 3 4 5] , Test: [0 1]\n",
      "Entrenamiento: [0 1 4 5] , Test: [2 3]\n",
      "Entrenamiento: [0 1 2 3] , Test: [4 5]\n"
     ]
    }
   ],
   "source": [
    "datos_kfold = [\"a\", \"b\", \"c\", \"d\", \"e\",\"f\"]\n",
    "\n",
    "kf = KFold(n_splits=3)\n",
    "\n",
    "for train_index, test_index in kf.split(datos_kfold):\n",
    "    print(\"Entrenamiento: %s , Test: %s\" % (train_index, test_index)) #Imprimir índices de los valores para entrenamiento y test"
   ]
  },
  {
   "cell_type": "markdown",
   "metadata": {},
   "source": [
    "Podemos apreciar como en los resultados al ser ***`n_splits = 3`*** el algoritmo tiene 3 iteraciones. En cada iteración, vemos cómo cambian las posiciones de los datos para entrenamiento y test.\n",
    "\n",
    "Para tu propio aprendizaje, puedes jugar con los valores de los datos e ir cambiando el valor que se le asigna a ***n_splits***. Te ayudará a entender mejor el funcionamiento de **K-fold**.\n"
   ]
  },
  {
   "cell_type": "markdown",
   "metadata": {},
   "source": [
    "## Cross-Validation Shuffle Split\n",
    "\n",
    "Para esta estrategia utilizaremos la clase ***`ShuffleSplit`*** de la librería **Scikit-Learn**. Haremos un ejemplo simple para entender el funcionamiento interno del algoritmo.\n",
    "\n",
    "Se hace la partición de los datos, y para ver cómo cambian en cada iteración, se imprime la posicion del dato en el vector para entrenamiento y para test. "
   ]
  },
  {
   "cell_type": "code",
   "execution_count": 15,
   "metadata": {},
   "outputs": [],
   "source": [
    "from sklearn.model_selection import ShuffleSplit"
   ]
  },
  {
   "cell_type": "code",
   "execution_count": 16,
   "metadata": {},
   "outputs": [
    {
     "name": "stdout",
     "output_type": "stream",
     "text": [
      "Entrenamiento: [4 9 1 6 7 3 0 5] Test: [2 8]\n",
      "Entrenamiento: [1 2 9 8 0 6 7 4] Test: [3 5]\n",
      "Entrenamiento: [8 4 5 1 0 6 9 7] Test: [2 3]\n",
      "Entrenamiento: [9 2 7 5 8 0 3 4] Test: [6 1]\n",
      "Entrenamiento: [7 4 1 0 6 8 9 3] Test: [5 2]\n"
     ]
    }
   ],
   "source": [
    "datos_shuffle = np.arange(10) # crear array [0, 1, 2, 3, 4, 5, 6, 7, 8, 9]\n",
    "\n",
    "ss = ShuffleSplit(n_splits=5, test_size=0.2, random_state=0)\n",
    "for train_index, test_index in ss.split(datos_shuffle):\n",
    "    print(\"Entrenamiento: %s Test: %s\" % (train_index, test_index)) #Imprimir índices de los valores para entrenamiento y test"
   ]
  },
  {
   "cell_type": "markdown",
   "metadata": {},
   "source": [
    "Como se comenta en la documentación, ***`ShuffleSplit`*** es una buena alternativa a la validación cruzada ***`KFold`***, ya que permite un control del número de iteraciones y de la proporción de muestras para cada partición de entrenamiento y test.\n",
    "\n",
    "Para el número de iteraciones puedes jugar cambiando el valor de ***`n_splits = 5`*** y para la proporción de muestras en test puedes jugar cambiando el valor de ***`test_size = 0.2`***. Esto, te ayudará a entender mejor el funcionamiento de **Shuffle Split**.\n",
    "\n",
    "Para terminar, puedes cambiar el valor del parámetro ***`random_state = 0`***, quien fija una semilla para random. Esta semilla nos ayuda a fijar el comportamiento del algoritmo para que cada vez que ejecutes la casilla los resultados no cambien. Te recomiendo también que quites el parámetro ***`random_state`*** y ejecutes la misma casilla más de una vez, verás lo que sucede."
   ]
  },
  {
   "cell_type": "markdown",
   "metadata": {},
   "source": [
    "## Cross-Validation Stratified K-Fold\n",
    "\n",
    "Para esta estrategia utilizaremos la clase ***`StratifiedKFold`*** de la librería **Scikit-Learn**.\n",
    "\n",
    "A continuación, se muestra un ejemplo de validación cruzada estratificada de 3-folds o iteraciones. En esta estrategia, vamos a utilizar un conjunto de datos con 50 muestras de dos clases no equilibradas. Para terminar, primero se imprime el número de muestras de cada clase y se compara con la clase ***`KFold`***, seguidamente, se imprimen los índices de las muestras para entrenamiento/test y de nuevo se compara con la clase ***`KFold`***."
   ]
  },
  {
   "cell_type": "code",
   "execution_count": 17,
   "metadata": {},
   "outputs": [],
   "source": [
    "from sklearn.model_selection import StratifiedKFold"
   ]
  },
  {
   "cell_type": "code",
   "execution_count": 18,
   "metadata": {},
   "outputs": [
    {
     "name": "stdout",
     "output_type": "stream",
     "text": [
      "NÚMERO DE MUESTRAS DE CADA CLASE:\n",
      "\n",
      "------------Stratified K-Fold----------\n",
      "\n",
      "Entrenamiento -  [28  5]   |   Test -  [14  3]\n",
      "Entrenamiento -  [28  5]   |   Test -  [14  3]\n",
      "Entrenamiento -  [28  6]   |   Test -  [14  2]\n",
      "\n",
      "-----------------K-Fold----------------\n",
      "\n",
      "Entrenamiento -  [25  8]   |   Test -  [17]\n",
      "Entrenamiento -  [25  8]   |   Test -  [17]\n",
      "Entrenamiento -  [34]   |   Test -  [8 8]\n",
      "\n",
      "ÍNDICES DE LAS MUESTRAS:\n",
      "\n",
      "------------Stratified K-Fold----------\n",
      "\n",
      "Entrenamiento: [14 15 16 17 18 19 20 21 22 23 24 25 26 27 28 29 30 31 32 33 34 35 36 37\n",
      " 38 39 40 41 45 46 47 48 49] , Test: [ 0  1  2  3  4  5  6  7  8  9 10 11 12 13 42 43 44]\n",
      "Entrenamiento: [ 0  1  2  3  4  5  6  7  8  9 10 11 12 13 28 29 30 31 32 33 34 35 36 37\n",
      " 38 39 40 41 42 43 44 48 49] , Test: [14 15 16 17 18 19 20 21 22 23 24 25 26 27 45 46 47]\n",
      "Entrenamiento: [ 0  1  2  3  4  5  6  7  8  9 10 11 12 13 14 15 16 17 18 19 20 21 22 23\n",
      " 24 25 26 27 42 43 44 45 46 47] , Test: [28 29 30 31 32 33 34 35 36 37 38 39 40 41 48 49]\n",
      "\n",
      "-----------------K-Fold----------------\n",
      "\n",
      "Entrenamiento: [17 18 19 20 21 22 23 24 25 26 27 28 29 30 31 32 33 34 35 36 37 38 39 40\n",
      " 41 42 43 44 45 46 47 48 49] , Test: [ 0  1  2  3  4  5  6  7  8  9 10 11 12 13 14 15 16]\n",
      "Entrenamiento: [ 0  1  2  3  4  5  6  7  8  9 10 11 12 13 14 15 16 34 35 36 37 38 39 40\n",
      " 41 42 43 44 45 46 47 48 49] , Test: [17 18 19 20 21 22 23 24 25 26 27 28 29 30 31 32 33]\n",
      "Entrenamiento: [ 0  1  2  3  4  5  6  7  8  9 10 11 12 13 14 15 16 17 18 19 20 21 22 23\n",
      " 24 25 26 27 28 29 30 31 32 33] , Test: [34 35 36 37 38 39 40 41 42 43 44 45 46 47 48 49]\n"
     ]
    }
   ],
   "source": [
    "datos_x, datos_y = np.ones((50,1)), np.hstack(([0] * 42, [1] * 8)) # Crear los datos para el ejemplo\n",
    "\n",
    "print('NÚMERO DE MUESTRAS DE CADA CLASE:\\n')\n",
    "\n",
    "print('------------Stratified K-Fold----------\\n')\n",
    "\n",
    "skf = StratifiedKFold(n_splits=3) # 3 iteraciones\n",
    "kf = KFold(n_splits=3)\n",
    "\n",
    "for train, test in skf.split(datos_x, datos_y):\n",
    "    print('Entrenamiento -  {}   |   Test -  {}'.format(\n",
    "    np.bincount(datos_y[train]), np.bincount(datos_y[test])))\n",
    "    \n",
    "print('\\n-----------------K-Fold----------------\\n')\n",
    "    \n",
    "for train, test in kf.split(datos_x, datos_y):  \n",
    "    print('Entrenamiento -  {}   |   Test -  {}'.format(\n",
    "    np.bincount(datos_y[train]), np.bincount(datos_y[test])))\n",
    "    \n",
    "print('\\nÍNDICES DE LAS MUESTRAS:\\n')\n",
    "\n",
    "print('------------Stratified K-Fold----------\\n')\n",
    "\n",
    "\n",
    "for train_index, test_index in skf.split(datos_x, datos_y):\n",
    "    print(\"Entrenamiento: %s , Test: %s\" % (train_index, test_index))\n",
    "    \n",
    "print('\\n-----------------K-Fold----------------\\n')\n",
    "    \n",
    "for train_index, test_index in kf.split(datos_x, datos_y):\n",
    "    print(\"Entrenamiento: %s , Test: %s\" % (train_index, test_index))"
   ]
  },
  {
   "cell_type": "markdown",
   "metadata": {},
   "source": [
    "En los resultados se aprecia como la clase ***`StratifiedKFold`*** usa la estrategia de muestreo **Stratified Sampling**, conteniendo aproximadamente el mismo porcentaje de muestras de cada clase del conjunto total de datos."
   ]
  },
  {
   "cell_type": "markdown",
   "metadata": {},
   "source": [
    "## Cross-Validation Stratified Shuffle Split\n",
    "\n",
    "Para esta estrategia utilizaremos la clase ***`StratifiedShuffleSplit`*** de la librería **Scikit-Learn**.\n",
    "\n",
    "En esta estrategia, vamos a utilizar el conjunto de datos definido anteriormente *datos_x* y *datos_y*. Primero, se imprime el número de muestras de cada clase y se compara con la clase ***`ShuffleSplit`***, seguidamente, se imprimen los índices de las muestras para entrenamiento/test y de nuevo se compara con la clase ***`ShuffleSplit`***."
   ]
  },
  {
   "cell_type": "code",
   "execution_count": 19,
   "metadata": {},
   "outputs": [],
   "source": [
    "from sklearn.model_selection import StratifiedShuffleSplit"
   ]
  },
  {
   "cell_type": "code",
   "execution_count": 20,
   "metadata": {},
   "outputs": [
    {
     "name": "stdout",
     "output_type": "stream",
     "text": [
      "NÚMERO DE MUESTRAS DE CADA CLASE:\n",
      "\n",
      "------------Stratified Shuffle Split----------\n",
      "\n",
      "Entrenamiento -  [34  6]   |   Test -  [8 2]\n",
      "Entrenamiento -  [34  6]   |   Test -  [8 2]\n",
      "Entrenamiento -  [34  6]   |   Test -  [8 2]\n",
      "Entrenamiento -  [34  6]   |   Test -  [8 2]\n",
      "Entrenamiento -  [34  6]   |   Test -  [8 2]\n",
      "\n",
      "-----------------Shuffle Split----------------\n",
      "\n",
      "Entrenamiento -  [32  8]   |   Test -  [10]\n",
      "Entrenamiento -  [33  7]   |   Test -  [9 1]\n",
      "Entrenamiento -  [34  6]   |   Test -  [8 2]\n",
      "Entrenamiento -  [33  7]   |   Test -  [9 1]\n",
      "Entrenamiento -  [34  6]   |   Test -  [8 2]\n",
      "\n",
      "ÍNDICES DE LAS MUESTRAS:\n",
      "\n",
      "------------Stratified Shuffle Split----------\n",
      "\n",
      "Entrenamiento: [ 1 27 24 38  2 15 37 14 45  5 13 33 26 46 39 43 17  8 47 16 41 20 28  4\n",
      " 12 11  7 36 32 35 29 31 10 18 22 25 48 30 49 34] , Test: [42  0 44 23  6  3 40 21 19  9]\n",
      "Entrenamiento: [22  9 36 26 12 21 32  4  6 19 17 39 23  2 47 25 14 16 28  3 18 27  8  1\n",
      " 24 43 33 44 46 10 13 20 15 48 45 38 37 11  7 41] , Test: [40  5 34 30 49 29 35 31  0 42]\n",
      "Entrenamiento: [32 10 19 35 37  6 28 25 13 39 44 27  2 47  8  9 33 41  5 30 49 20 14 18\n",
      " 23 42  3 36 17 21 26  7  4 22 48 46 34  0 16 12] , Test: [24 31 38 15 40 29  1 45 43 11]\n",
      "Entrenamiento: [32 22 17  0 33 16  8 25 43 23  5 34 38 10 13 30 11 36 31 41 47 14 39 20\n",
      "  1 46 49 26 24  4 27 37 42  2 15 40 35 12  3 45] , Test: [44 29 28 19  6 18  9 48  7 21]\n",
      "Entrenamiento: [33 45 40 20 49 34 39 30 32 44 27 12 16 23 41 14 29 13  4 11 24 47  0 21\n",
      " 31 48 19  5 36  1 10  9 42 38 26 37  2 18 28  3] , Test: [ 6 43  8 15 22 17 35 25 46  7]\n",
      "\n",
      "-----------------Shuffle Split----------------\n",
      "\n",
      "Entrenamiento: [33 35 26 34 18  7 14 45 48 29 15 30 32 16 42 20 43  8 13 25  5 17 40 49\n",
      "  1 12 37 24  6 23 36 21 19  9 39 46  3  0 47 44] , Test: [28 11 10 41  2 27 38 31 22  4]\n",
      "Entrenamiento: [46  7 34 19 43 32  8 22 29 44 26 42 24  6 41 47 20 10 25 12 21  3 14 48\n",
      " 27 18 11 35 39  1 31  4 15 17 40 38  5 36 49  0] , Test: [ 2 30 23 16 13 28  9 45 33 37]\n",
      "Entrenamiento: [40 46 25 15  6 38 16 35 28  8 11 37  4  1 41 33 31 17 20 32 14 18 45 30\n",
      " 44  2 23 10 49  9 21 39 13 42 47  3 29 34 36  0] , Test: [ 7 24 27 48 12  5 43 22 19 26]\n",
      "Entrenamiento: [ 7  5  6  9 15 28 35  0 41  1 47 49 45 37 21 27 16 24 33 42 25 46 22 11\n",
      " 38  4 32 14  3  2 26 44 31 19  8 40 13 43 34 30] , Test: [36 12 48 23 17 39 20 10 29 18]\n",
      "Entrenamiento: [25 47 42 17 27 16  9  7 30 41 14 46 21 39 19  2  8 15 36 33 37 10 20 11\n",
      " 32 23  5 22 35 38 12 43 18  3 45 24 44 31  1 29] , Test: [ 4 34 49  0 48  6 28 26 13 40]\n"
     ]
    }
   ],
   "source": [
    "print('NÚMERO DE MUESTRAS DE CADA CLASE:\\n')\n",
    "\n",
    "print('------------Stratified Shuffle Split----------\\n')\n",
    "\n",
    "sss = StratifiedShuffleSplit(n_splits=5, test_size=0.2, random_state=0)\n",
    "ss = ShuffleSplit(n_splits=5, test_size=0.2, random_state=0)\n",
    "\n",
    "for train, test in sss.split(datos_x, datos_y):\n",
    "    print('Entrenamiento -  {}   |   Test -  {}'.format(\n",
    "    np.bincount(datos_y[train]), np.bincount(datos_y[test])))\n",
    "    \n",
    "print('\\n-----------------Shuffle Split----------------\\n')\n",
    "    \n",
    "for train, test in ss.split(datos_x, datos_y):  \n",
    "    print('Entrenamiento -  {}   |   Test -  {}'.format(\n",
    "    np.bincount(datos_y[train]), np.bincount(datos_y[test])))\n",
    "    \n",
    "print('\\nÍNDICES DE LAS MUESTRAS:\\n')\n",
    "\n",
    "print('------------Stratified Shuffle Split----------\\n')\n",
    "\n",
    "\n",
    "for train_index, test_index in sss.split(datos_x, datos_y):\n",
    "    print(\"Entrenamiento: %s , Test: %s\" % (train_index, test_index))\n",
    "    \n",
    "print('\\n-----------------Shuffle Split----------------\\n')\n",
    "    \n",
    "for train_index, test_index in ss.split(datos_x, datos_y):\n",
    "    print(\"Entrenamiento: %s , Test: %s\" % (train_index, test_index))"
   ]
  },
  {
   "cell_type": "markdown",
   "metadata": {},
   "source": [
    "En los resultados se aprecia como la clase ***`StratifiedShuffleSplit`*** usa la estrategia de muestreo **Stratified Sampling**, conteniendo aproximadamente el mismo porcentaje de muestras de cada clase del conjunto total de datos."
   ]
  },
  {
   "cell_type": "markdown",
   "metadata": {},
   "source": [
    "## Conclusión"
   ]
  },
  {
   "cell_type": "markdown",
   "metadata": {},
   "source": [
    "Como has visto, tenemos muchas maneras diferentes de implementar cada estrategia para hacer uso del muestreo de datos y dividir nuestros datos en subconjuntos para el entrenamiento de modelos. Dependerá del tipo de problema que tengas que resolver en cada momento aplicar una u otra.\n",
    "\n",
    "Suerte en tu formación!😊😊"
   ]
  },
  {
   "cell_type": "code",
   "execution_count": null,
   "metadata": {},
   "outputs": [],
   "source": []
  }
 ],
 "metadata": {
  "kernelspec": {
   "display_name": "Python 3",
   "language": "python",
   "name": "python3"
  },
  "language_info": {
   "codemirror_mode": {
    "name": "ipython",
    "version": 3
   },
   "file_extension": ".py",
   "mimetype": "text/x-python",
   "name": "python",
   "nbconvert_exporter": "python",
   "pygments_lexer": "ipython3",
   "version": "3.8.5"
  }
 },
 "nbformat": 4,
 "nbformat_minor": 5
}
