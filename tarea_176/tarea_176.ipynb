{
 "cells": [
  {
   "cell_type": "markdown",
   "id": "f81df304",
   "metadata": {},
   "source": [
    "1. Programa que diga el máximo de 3 número dados"
   ]
  },
  {
   "cell_type": "code",
   "execution_count": 39,
   "id": "6896fe06",
   "metadata": {},
   "outputs": [],
   "source": [
    "def comprobar_iguales(n1,n2,n3):\n",
    "    if n1!=n2 and n2!=n3 and n1!=n3:\n",
    "        return True\n",
    "    else:\n",
    "        return False\n",
    "\n",
    "def calculo_maximo(n1,n2,n3):\n",
    "    if comprobar_iguales(n1,n2,n3):\n",
    "        if n1>n2 and n1>n3:\n",
    "                result = n1\n",
    "        elif n2>n1 and n2>n3:\n",
    "                result = n2\n",
    "        elif n3>n1 and n3>n2:\n",
    "                result = n3\n",
    "        print(result, \"es el valor maximo\")\n",
    "    else:\n",
    "        print(\"hay valores iguales\")\n",
    "    "
   ]
  },
  {
   "cell_type": "code",
   "execution_count": 40,
   "id": "70c78051",
   "metadata": {},
   "outputs": [
    {
     "name": "stdout",
     "output_type": "stream",
     "text": [
      "hay valores iguales\n"
     ]
    }
   ],
   "source": [
    "calculo_maximo(1,6,6)"
   ]
  },
  {
   "cell_type": "code",
   "execution_count": 41,
   "id": "6e5b2bd0",
   "metadata": {},
   "outputs": [
    {
     "name": "stdout",
     "output_type": "stream",
     "text": [
      "5 es el valor maximo\n"
     ]
    }
   ],
   "source": [
    "calculo_maximo(1,5,3)"
   ]
  },
  {
   "cell_type": "markdown",
   "id": "256dcf9a",
   "metadata": {},
   "source": [
    "2. Programa que diga la longitud de una frase"
   ]
  },
  {
   "cell_type": "code",
   "execution_count": 31,
   "id": "c48d23ab",
   "metadata": {},
   "outputs": [],
   "source": [
    "def longitud_frase(text):\n",
    "    print(\"la longitud de la frase es: \",len(text))"
   ]
  },
  {
   "cell_type": "code",
   "execution_count": 32,
   "id": "d5f977c5",
   "metadata": {},
   "outputs": [
    {
     "name": "stdout",
     "output_type": "stream",
     "text": [
      "la longitud de la frase es:  23\n"
     ]
    }
   ],
   "source": [
    "longitud_frase(\"esta frase es muy larga\")"
   ]
  },
  {
   "cell_type": "markdown",
   "id": "1f129353",
   "metadata": {},
   "source": [
    "3. Programa que determine si un carácter previamente dado es vocal o no"
   ]
  },
  {
   "cell_type": "code",
   "execution_count": 42,
   "id": "e83008d9",
   "metadata": {},
   "outputs": [],
   "source": [
    "def vocal(letra):\n",
    "    if letra==\"a\" or letra==\"e\" or letra==\"i\" or letra==\"o\" or letra==\"u\" or letra==\"A\" or letra==\"E\" or letra==\"I\" or letra==\"O\" or letra==\"U\":\n",
    "        return True\n",
    "    else:\n",
    "        return False"
   ]
  },
  {
   "cell_type": "code",
   "execution_count": 43,
   "id": "d0320cd5",
   "metadata": {},
   "outputs": [
    {
     "name": "stdout",
     "output_type": "stream",
     "text": [
      "False\n"
     ]
    }
   ],
   "source": [
    "print(vocal(\"y\"))"
   ]
  },
  {
   "cell_type": "code",
   "execution_count": 45,
   "id": "8baa8151",
   "metadata": {
    "scrolled": true
   },
   "outputs": [
    {
     "name": "stdout",
     "output_type": "stream",
     "text": [
      "True\n"
     ]
    }
   ],
   "source": [
    "print(vocal(\"E\"))"
   ]
  },
  {
   "cell_type": "markdown",
   "id": "605da8d5",
   "metadata": {},
   "source": [
    "4. Programa que sume los valores de una lista"
   ]
  },
  {
   "cell_type": "code",
   "execution_count": 46,
   "id": "c349e665",
   "metadata": {},
   "outputs": [],
   "source": [
    "def suma_lista(datos):\n",
    "    suma = 0\n",
    "    for i in datos:\n",
    "        suma = suma + i\n",
    "    return suma"
   ]
  },
  {
   "cell_type": "code",
   "execution_count": 49,
   "id": "8f21705b",
   "metadata": {},
   "outputs": [
    {
     "name": "stdout",
     "output_type": "stream",
     "text": [
      "suma de los datos 18\n"
     ]
    }
   ],
   "source": [
    "print(\"suma de los datos\",suma_lista([10,2,6]))"
   ]
  },
  {
   "cell_type": "markdown",
   "id": "eb7031e6",
   "metadata": {},
   "source": [
    "5. Programa que diga si una palabra dada es palíndromo"
   ]
  },
  {
   "cell_type": "code",
   "execution_count": 63,
   "id": "fcd23709",
   "metadata": {},
   "outputs": [],
   "source": [
    "def palindromo(texto):\n",
    "    texto = texto.lower()\n",
    "    texto = texto.replace(\" \", \"\")\n",
    "    length_str = len(texto)\n",
    "    sliced_str = texto[length_str::-1] \n",
    "    if(texto == sliced_str):\n",
    "        print(\"Es palíndromo\")\n",
    "    else:\n",
    "        print(\"No es palíndromo\")"
   ]
  },
  {
   "cell_type": "code",
   "execution_count": 64,
   "id": "03e42f02",
   "metadata": {},
   "outputs": [
    {
     "name": "stdout",
     "output_type": "stream",
     "text": [
      "Es palíndromo\n"
     ]
    }
   ],
   "source": [
    "palindromo(\"Dabale arroz a la zorra el abad\")"
   ]
  },
  {
   "cell_type": "code",
   "execution_count": 65,
   "id": "770b14a3",
   "metadata": {},
   "outputs": [
    {
     "name": "stdout",
     "output_type": "stream",
     "text": [
      "No es palíndromo\n"
     ]
    }
   ],
   "source": [
    "palindromo(\"Cosas escritas\")"
   ]
  },
  {
   "cell_type": "markdown",
   "id": "6f530884",
   "metadata": {},
   "source": [
    "6. Programa que compare dos listas y encuentre si hay algún valor coincidente"
   ]
  },
  {
   "cell_type": "code",
   "execution_count": 87,
   "id": "43214d54",
   "metadata": {},
   "outputs": [],
   "source": [
    "def coincidente(list1, list2):\n",
    "    for i in list1:\n",
    "        for j in list2:\n",
    "            if i == j:\n",
    "                print(\"Existe valor coincidente\", j)\n",
    "    return print(\"No hay valor coincidente\")"
   ]
  },
  {
   "cell_type": "code",
   "execution_count": 88,
   "id": "ff1bd1b8",
   "metadata": {},
   "outputs": [
    {
     "name": "stdout",
     "output_type": "stream",
     "text": [
      "Existe valor coincidente 20\n",
      "No hay valor coincidente\n"
     ]
    }
   ],
   "source": [
    "coincidente([1,20,3],[10,20,30])"
   ]
  },
  {
   "cell_type": "code",
   "execution_count": null,
   "id": "c8d16320",
   "metadata": {},
   "outputs": [],
   "source": []
  }
 ],
 "metadata": {
  "kernelspec": {
   "display_name": "Python 3 (ipykernel)",
   "language": "python",
   "name": "python3"
  },
  "language_info": {
   "codemirror_mode": {
    "name": "ipython",
    "version": 3
   },
   "file_extension": ".py",
   "mimetype": "text/x-python",
   "name": "python",
   "nbconvert_exporter": "python",
   "pygments_lexer": "ipython3",
   "version": "3.9.7"
  }
 },
 "nbformat": 4,
 "nbformat_minor": 5
}
